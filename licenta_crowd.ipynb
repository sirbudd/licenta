{
  "nbformat": 4,
  "nbformat_minor": 0,
  "metadata": {
    "colab": {
      "name": "licenta-crowd.ipynb",
      "provenance": [],
      "collapsed_sections": [],
      "machine_shape": "hm"
    },
    "kernelspec": {
      "name": "python3",
      "display_name": "Python 3"
    },
    "accelerator": "GPU"
  },
  "cells": [
    {
      "cell_type": "code",
      "metadata": {
        "id": "7bW2uSizP_3H"
      },
      "source": [
        "!nvidia-smi"
      ],
      "execution_count": null,
      "outputs": []
    },
    {
      "cell_type": "code",
      "metadata": {
        "id": "2bH4EFKaD3b7"
      },
      "source": [
        "from google.colab import drive\n",
        "drive.mount('/content/drive')"
      ],
      "execution_count": null,
      "outputs": []
    },
    {
      "cell_type": "code",
      "source": [
        "#install dependencies\n",
        "!pip install googledrivedownloader\n",
        "!pip install --upgrade --no-cache-dir gdown\n",
        "#!pip install --pre torch torchvision -f https://download.pytorch.org/whl/nightly/cu111/torch_nightly.html -U"
      ],
      "metadata": {
        "id": "DgZfu9a3xOX_"
      },
      "execution_count": null,
      "outputs": []
    },
    {
      "cell_type": "code",
      "metadata": {
        "id": "eEminGZE--Xn"
      },
      "source": [
        "# Name of the directory on Google Drive for saving training log, loss/mAP chart,\n",
        "# and weights\n",
        "SAVE_DIR = 'crowd'\n",
        "\n",
        "# Path of the Google Drive mount point\n",
        "DRIVE_DIR = '/content/drive/MyDrive'\n",
        "\n",
        "# Full path to the save directory on Google Drive\n",
        "DRIVE_SAVE_DIR = DRIVE_DIR + '/' + SAVE_DIR\n",
        "\n",
        "# Input shape {width}*{height} of the yolov4 model to be trained\n",
        "INPUT_SHAPE = '608x608'"
      ],
      "execution_count": null,
      "outputs": []
    },
    {
      "cell_type": "code",
      "metadata": {
        "id": "kE0eiowPUS6q"
      },
      "source": [
        "#clone repo\n",
        "%cd /content\n",
        "!git clone https://github.com/sirbudd/licenta.git\n",
        "!mkdir /content/licenta/data/raw"
      ],
      "execution_count": null,
      "outputs": []
    },
    {
      "cell_type": "code",
      "source": [
        "#download files\n",
        "import gdown\n",
        "\n",
        "%cd /content/licenta/data/raw\n",
        "\n",
        "# #annotation_train.odgt\n",
        "# url = 'https://drive.google.com/uc?id=1sNqB34uO-Go8tWYXQ7QCiQaKFXSlwXzk'\n",
        "# output = 'annotation_train.odgt'\n",
        "# gdown.download(url, output, quiet=False)\n",
        "\n",
        "# #annotation_val.odg\n",
        "# url = 'https://drive.google.com/uc?id=1p4-Z0RzP9kKA-8PKYdtPmOuhG1TwCdZf'\n",
        "# output = 'annotation_val.odgt'\n",
        "# gdown.download(url, output, quiet=False)\n",
        "\n",
        "# #CrowdHuman_train01.zip\n",
        "# url = 'https://drive.google.com/uc?id=1l9CvDD5Py5XTRQzcpgGYvf_QYX2dH-wG'\n",
        "# output = 'CrowdHuman_train01.zip'\n",
        "# gdown.download(url, output, quiet=False)\n",
        "\n",
        "# #CrowdHuman_train02.zip\n",
        "# url = 'https://drive.google.com/uc?id=1MGYDW1USUQgjyul49kSwOnrLahv5Q1HH'\n",
        "# output = 'CrowdHuman_train02.zip'\n",
        "# gdown.download(url, output, quiet=False)\n",
        "\n",
        "# #CrowdHuman_train03.zip\n",
        "# url = 'https://drive.google.com/uc?id=1xeHnpb9oaD8fsjAH9B_6sAL4J32wsV54'\n",
        "# output = 'CrowdHuman_train03.zip'\n",
        "# gdown.download(url, output, quiet=False)\n",
        "\n",
        "# #CrowdHuman_val.zip\n",
        "# url = 'https://drive.google.com/uc?id=1Cg9EX9CKUXXYVo7qYl44KgU2AU9wEv7j'\n",
        "# output = 'CrowdHuman_val.zip'\n",
        "# gdown.download(url, output, quiet=False)\n",
        "\n",
        "!cp -r /content/drive/MyDrive/crowd-sets/CrowdHuman_train01.zip /content/licenta/data/raw\n",
        "!cp -r /content/drive/MyDrive/crowd-sets/CrowdHuman_train02.zip /content/licenta/data/raw\n",
        "!cp -r /content/drive/MyDrive/crowd-sets/CrowdHuman_train03.zip /content/licenta/data/raw\n",
        "!cp -r /content/drive/MyDrive/crowd-sets/CrowdHuman_val.zip /content/licenta/data/raw\n",
        "!cp -r /content/drive/MyDrive/crowd-sets/annotation_train.odgt /content/licenta/data/raw\n",
        "!cp -r /content/drive/MyDrive/crowd-sets/annotation_val.odgt /content/licenta/data/raw\n",
        "\n",
        "print(\"Done copying files!\")"
      ],
      "metadata": {
        "id": "PR-cA_6NxZ6Z"
      },
      "execution_count": null,
      "outputs": []
    },
    {
      "cell_type": "code",
      "metadata": {
        "id": "HTzs7N9fWa5Q"
      },
      "source": [
        "#prepare data ---- extract and generate .jpg & .txt files\n",
        "!chmod 755 /content/licenta/data/prepare_data.sh\n",
        "%cd /content/licenta/data\n",
        "#!dos2unix prepare_data.sh\n",
        "!./prepare_data.sh {INPUT_SHAPE}"
      ],
      "execution_count": null,
      "outputs": []
    },
    {
      "cell_type": "code",
      "source": [
        "ls /content/licenta/data/crowdhuman-416x416 | wc -l"
      ],
      "metadata": {
        "id": "vFGDpUbt07PW"
      },
      "execution_count": null,
      "outputs": []
    },
    {
      "cell_type": "code",
      "metadata": {
        "id": "pXcUYzfdO6-J"
      },
      "source": [
        "#download darknet from github --- ALEXEY VERSION\n",
        "%cd /content/licenta\n",
        "!rm -rf darknet\n",
        "!git clone https://github.com/AlexeyAB/darknet.git"
      ],
      "execution_count": null,
      "outputs": []
    },
    {
      "cell_type": "code",
      "metadata": {
        "id": "5owSSwBRYfih"
      },
      "source": [
        "%cd /content/licenta/darknet\n",
        "!sed -i \"1s/GPU=0/GPU=1/\"               Makefile\n",
        "!sed -i \"2s/CUDNN=0/CUDNN=1/\"           Makefile\n",
        "# !sed -i \"3s/CUDNN_HALF=0/CUDNN_HALF=1/\" Makefile\n",
        "!sed -i \"4s/OPENCV=0/OPENCV=1/\"         Makefile\n",
        "!sed -i \"5s/AVX=0/AVX=1/\"               Makefile\n",
        "!sed -i \"7s/LIBSO=0/LIBSO=1/\"           Makefile\n",
        "# !sed -i \"20s/compute_30,code=sm_30 \\\\\\/compute_37,code=sm_37 -gencode arch=compute_60,code=[sm_60,compute_60] -gencode arch=compute_61,code=[sm_61,compute_61] -gencode arch=compute_75,code=[sm_75,compute_75]/\" Makefile\n",
        "# !sed -i \"21s/^/#/\"                      Makefile\n",
        "# !sed -i \"22s/^/#/\"                      Makefile\n",
        "# !sed -i \"23s/^/#/\"                      Makefile\n",
        "# !sed -i \"24s/^/#/\"                      Makefile\n",
        "# Let darknet test mAP more frequently during training \n",
        "!sed -i \"300s/calc_map_for_each = 4/calc_map_for_each = 1/\" src/detector.c\n",
        "\n",
        "!make"
      ],
      "execution_count": null,
      "outputs": []
    },
    {
      "cell_type": "code",
      "metadata": {
        "id": "AcENGnNFdJZA"
      },
      "source": [
        "#Create folders and symlinks for saving training log and results.  --- clean old files\n",
        "!mkdir -p \"{DRIVE_SAVE_DIR}\"\n",
        "!rm -f \"{DRIVE_SAVE_DIR}\"/train.log\n",
        "!touch \"{DRIVE_SAVE_DIR}\"/chart.png\n",
        "!rm -f chart.png\n",
        "!ln -sf \"{DRIVE_SAVE_DIR}\"/chart.png .\n",
        "!mkdir -p \"{DRIVE_SAVE_DIR}\"/backup\n",
        "!rm -rf backup\n",
        "!ln -sf \"{DRIVE_SAVE_DIR}\"/backup ."
      ],
      "execution_count": null,
      "outputs": []
    },
    {
      "cell_type": "code",
      "metadata": {
        "id": "SH2F94HceFmJ"
      },
      "source": [
        "#Remaining setup pt training. Also download pre-trained weights\n",
        "!chmod 755 /content/licenta/prepare_training.sh\n",
        "%cd /content/licenta\n",
        "!./prepare_training.sh {INPUT_SHAPE}"
      ],
      "execution_count": null,
      "outputs": []
    },
    {
      "cell_type": "code",
      "metadata": {
        "id": "zpqXAe5DfPGN"
      },
      "source": [
        "#Start training\n",
        "%cd /content/licenta/darknet\n",
        "!./darknet detector train data/crowdhuman-{INPUT_SHAPE}.data cfg/yolov4-crowdhuman-{INPUT_SHAPE}.cfg yolov4.conv.137 -gpu 0 -map -dont_show 2>&1 | tee \"{DRIVE_SAVE_DIR}\"/train.log | grep -E \"hours left|mean_average\"\n",
        "#!./darknet detector train data/crowdhuman-{INPUT_SHAPE}.data cfg/yolov4-crowdhuman-{INPUT_SHAPE}.cfg yolov4.conv.137 -map -dont_show | grep -E \"hours left|mean_average\""
      ],
      "execution_count": null,
      "outputs": []
    },
    {
      "cell_type": "code",
      "metadata": {
        "id": "_K4jOXJCD0ru"
      },
      "source": [
        "#TEST darknet\n",
        "!./darknet detector test data/crowdhuman-{INPUT_SHAPE}.data cfg/yolov4-crowdhuman-{INPUT_SHAPE}.cfg backup/yolov4-crowdhuman-{INPUT_SHAPE}_best.weights /content/277961736_4251463678290414_6165787944070179067_n.jpg -gpu 0 -dont_show\n",
        "\n",
        "from IPython.display import Image\n",
        "Image('predictions.jpg')"
      ],
      "execution_count": null,
      "outputs": []
    }
  ]
}